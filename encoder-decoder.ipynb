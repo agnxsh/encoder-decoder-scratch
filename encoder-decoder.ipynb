{
 "cells": [
  {
   "cell_type": "code",
   "execution_count": 1,
   "metadata": {},
   "outputs": [
    {
     "name": "stdout",
     "output_type": "stream",
     "text": [
      "Collecting bertviz\n",
      "  Downloading bertviz-1.4.0-py3-none-any.whl (157 kB)\n",
      "     -------------------------------------- 157.6/157.6 kB 1.6 MB/s eta 0:00:00\n",
      "Requirement already satisfied: torch>=1.0 in c:\\users\\thisi\\appdata\\local\\programs\\python\\python310\\lib\\site-packages (from bertviz) (1.12.0)\n",
      "Requirement already satisfied: transformers>=2.0 in c:\\users\\thisi\\appdata\\local\\programs\\python\\python310\\lib\\site-packages (from bertviz) (4.23.1)\n",
      "Requirement already satisfied: requests in c:\\users\\thisi\\appdata\\local\\programs\\python\\python310\\lib\\site-packages (from bertviz) (2.28.1)\n",
      "Requirement already satisfied: boto3 in c:\\users\\thisi\\appdata\\local\\programs\\python\\python310\\lib\\site-packages (from bertviz) (1.26.5)\n",
      "Collecting sentencepiece\n",
      "  Downloading sentencepiece-0.1.97-cp310-cp310-win_amd64.whl (1.1 MB)\n",
      "     ---------------------------------------- 1.1/1.1 MB 6.6 MB/s eta 0:00:00\n",
      "Requirement already satisfied: regex in c:\\users\\thisi\\appdata\\local\\programs\\python\\python310\\lib\\site-packages (from bertviz) (2022.8.17)\n",
      "Requirement already satisfied: tqdm in c:\\users\\thisi\\appdata\\local\\programs\\python\\python310\\lib\\site-packages (from bertviz) (4.64.0)\n",
      "Requirement already satisfied: typing-extensions in c:\\users\\thisi\\appdata\\local\\programs\\python\\python310\\lib\\site-packages (from torch>=1.0->bertviz) (4.3.0)\n",
      "Requirement already satisfied: pyyaml>=5.1 in c:\\users\\thisi\\appdata\\local\\programs\\python\\python310\\lib\\site-packages (from transformers>=2.0->bertviz) (6.0)\n",
      "Requirement already satisfied: huggingface-hub<1.0,>=0.10.0 in c:\\users\\thisi\\appdata\\local\\programs\\python\\python310\\lib\\site-packages (from transformers>=2.0->bertviz) (0.10.1)\n",
      "Requirement already satisfied: numpy>=1.17 in c:\\users\\thisi\\appdata\\local\\programs\\python\\python310\\lib\\site-packages (from transformers>=2.0->bertviz) (1.23.2)\n",
      "Requirement already satisfied: packaging>=20.0 in c:\\users\\thisi\\appdata\\local\\programs\\python\\python310\\lib\\site-packages (from transformers>=2.0->bertviz) (21.3)\n",
      "Requirement already satisfied: tokenizers!=0.11.3,<0.14,>=0.11.1 in c:\\users\\thisi\\appdata\\local\\programs\\python\\python310\\lib\\site-packages (from transformers>=2.0->bertviz) (0.13.1)\n",
      "Requirement already satisfied: filelock in c:\\users\\thisi\\appdata\\local\\programs\\python\\python310\\lib\\site-packages (from transformers>=2.0->bertviz) (3.8.0)\n",
      "Requirement already satisfied: colorama in c:\\users\\thisi\\appdata\\local\\programs\\python\\python310\\lib\\site-packages (from tqdm->bertviz) (0.4.5)\n",
      "Requirement already satisfied: botocore<1.30.0,>=1.29.5 in c:\\users\\thisi\\appdata\\local\\programs\\python\\python310\\lib\\site-packages (from boto3->bertviz) (1.29.5)\n",
      "Requirement already satisfied: s3transfer<0.7.0,>=0.6.0 in c:\\users\\thisi\\appdata\\local\\programs\\python\\python310\\lib\\site-packages (from boto3->bertviz) (0.6.0)\n",
      "Requirement already satisfied: jmespath<2.0.0,>=0.7.1 in c:\\users\\thisi\\appdata\\local\\programs\\python\\python310\\lib\\site-packages (from boto3->bertviz) (1.0.1)\n",
      "Requirement already satisfied: urllib3<1.27,>=1.21.1 in c:\\users\\thisi\\appdata\\local\\programs\\python\\python310\\lib\\site-packages (from requests->bertviz) (1.26.12)\n",
      "Requirement already satisfied: idna<4,>=2.5 in c:\\users\\thisi\\appdata\\local\\programs\\python\\python310\\lib\\site-packages (from requests->bertviz) (3.3)\n",
      "Requirement already satisfied: charset-normalizer<3,>=2 in c:\\users\\thisi\\appdata\\local\\programs\\python\\python310\\lib\\site-packages (from requests->bertviz) (2.1.1)\n",
      "Requirement already satisfied: certifi>=2017.4.17 in c:\\users\\thisi\\appdata\\local\\programs\\python\\python310\\lib\\site-packages (from requests->bertviz) (2022.6.15)\n",
      "Requirement already satisfied: python-dateutil<3.0.0,>=2.1 in c:\\users\\thisi\\appdata\\local\\programs\\python\\python310\\lib\\site-packages (from botocore<1.30.0,>=1.29.5->boto3->bertviz) (2.8.2)\n",
      "Requirement already satisfied: pyparsing!=3.0.5,>=2.0.2 in c:\\users\\thisi\\appdata\\local\\programs\\python\\python310\\lib\\site-packages (from packaging>=20.0->transformers>=2.0->bertviz) (3.0.9)\n",
      "Requirement already satisfied: six>=1.5 in c:\\users\\thisi\\appdata\\local\\programs\\python\\python310\\lib\\site-packages (from python-dateutil<3.0.0,>=2.1->botocore<1.30.0,>=1.29.5->boto3->bertviz) (1.16.0)\n",
      "Installing collected packages: sentencepiece, bertviz\n",
      "Successfully installed bertviz-1.4.0 sentencepiece-0.1.97\n"
     ]
    }
   ],
   "source": [
    "!pip install bertviz"
   ]
  },
  {
   "cell_type": "code",
   "execution_count": 3,
   "metadata": {},
   "outputs": [],
   "source": [
    "from transformers import AutoTokenizer\n",
    "from bertviz.transformers_neuron_view import BertModel\n",
    "from bertviz.neuron_view import show"
   ]
  },
  {
   "cell_type": "code",
   "execution_count": 11,
   "metadata": {},
   "outputs": [
    {
     "data": {
      "application/vnd.jupyter.widget-view+json": {
       "model_id": "489c19505eb84349b26a123f2de32814",
       "version_major": 2,
       "version_minor": 0
      },
      "text/plain": [
       "Downloading:   0%|          | 0.00/28.0 [00:00<?, ?B/s]"
      ]
     },
     "metadata": {},
     "output_type": "display_data"
    },
    {
     "name": "stderr",
     "output_type": "stream",
     "text": [
      "c:\\Users\\thisi\\AppData\\Local\\Programs\\Python\\Python310\\lib\\site-packages\\huggingface_hub\\file_download.py:123: UserWarning: `huggingface_hub` cache-system uses symlinks by default to efficiently store duplicated files but your machine does not support them in C:\\Users\\thisi\\.cache\\huggingface\\hub. Caching files will still work but in a degraded version that might require more space on your disk. This warning can be disabled by setting the `HF_HUB_DISABLE_SYMLINKS_WARNING` environment variable. For more details, see https://huggingface.co/docs/huggingface_hub/how-to-cache#limitations.\n",
      "To support symlinks on Windows, you either need to activate Developer Mode or to run Python as an administrator. In order to see activate developer mode, see this article: https://docs.microsoft.com/en-us/windows/apps/get-started/enable-your-device-for-development\n",
      "  warnings.warn(message)\n"
     ]
    },
    {
     "data": {
      "application/vnd.jupyter.widget-view+json": {
       "model_id": "5201801f07334e1283dc54ddcecf75c7",
       "version_major": 2,
       "version_minor": 0
      },
      "text/plain": [
       "Downloading:   0%|          | 0.00/570 [00:00<?, ?B/s]"
      ]
     },
     "metadata": {},
     "output_type": "display_data"
    },
    {
     "data": {
      "application/vnd.jupyter.widget-view+json": {
       "model_id": "abbf38ecc05748a9aa5a2f169cf6b08c",
       "version_major": 2,
       "version_minor": 0
      },
      "text/plain": [
       "Downloading:   0%|          | 0.00/232k [00:00<?, ?B/s]"
      ]
     },
     "metadata": {},
     "output_type": "display_data"
    },
    {
     "data": {
      "application/vnd.jupyter.widget-view+json": {
       "model_id": "d0890fae49c64feb9a8fde32a727afa1",
       "version_major": 2,
       "version_minor": 0
      },
      "text/plain": [
       "Downloading:   0%|          | 0.00/466k [00:00<?, ?B/s]"
      ]
     },
     "metadata": {},
     "output_type": "display_data"
    },
    {
     "name": "stderr",
     "output_type": "stream",
     "text": [
      "100%|██████████| 433/433 [00:00<00:00, 144194.81B/s]\n",
      "  3%|▎         | 13176832/440473133 [02:04<2:00:13, 59235.95B/s] "
     ]
    }
   ],
   "source": [
    "model_ckpt = \"bert-base-uncased\"\n",
    "tokenizer = AutoTokenizer.from_pretrained(model_ckpt)\n",
    "\n",
    "text = \"As the aircraft becomes lighter, it flies higher in air of lower density to maintain the same airspeed\"\n",
    "model = BertModel.from_pretrained(model_ckpt)\n",
    "show(model, \"bert\", tokenizer, text, display_mode=\"light\", layer=0, head=0)"
   ]
  },
  {
   "cell_type": "code",
   "execution_count": null,
   "metadata": {},
   "outputs": [],
   "source": []
  }
 ],
 "metadata": {
  "kernelspec": {
   "display_name": "Python 3.10.4 64-bit",
   "language": "python",
   "name": "python3"
  },
  "language_info": {
   "codemirror_mode": {
    "name": "ipython",
    "version": 3
   },
   "file_extension": ".py",
   "mimetype": "text/x-python",
   "name": "python",
   "nbconvert_exporter": "python",
   "pygments_lexer": "ipython3",
   "version": "3.10.4"
  },
  "orig_nbformat": 4,
  "vscode": {
   "interpreter": {
    "hash": "4af46800ec3e7d3535f5df043bdd7c66ecc07e36dbfc0d9b77de2e20797639e6"
   }
  }
 },
 "nbformat": 4,
 "nbformat_minor": 2
}
